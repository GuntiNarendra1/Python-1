{
 "cells": [
  {
   "cell_type": "markdown",
   "metadata": {},
   "source": [
    "### File writing"
   ]
  },
  {
   "cell_type": "code",
   "execution_count": 25,
   "metadata": {},
   "outputs": [],
   "source": [
    "filePath=\"./Files/sample1.txt\"\n",
    "with open(filePath,'a') as f :\n",
    "    f.write(\" guntur \")"
   ]
  },
  {
   "cell_type": "markdown",
   "metadata": {},
   "source": [
    "### File Reading"
   ]
  },
  {
   "cell_type": "code",
   "execution_count": 9,
   "metadata": {},
   "outputs": [
    {
     "name": "stdout",
     "output_type": "stream",
     "text": [
      " This is India \n"
     ]
    }
   ],
   "source": [
    "filePath=\"./Files/sample.txt\"\n",
    "with open(filePath,'r') as f :\n",
    "    j=f.read()\n",
    "    print(j)"
   ]
  },
  {
   "cell_type": "code",
   "execution_count": 26,
   "metadata": {},
   "outputs": [
    {
     "name": "stdout",
     "output_type": "stream",
     "text": [
      "['kallam \\n', ' college \\n', '  guntur ']\n"
     ]
    }
   ],
   "source": [
    "filePath=\"./Files/sample1.txt\"\n",
    "with open(filePath,'r') as f :\n",
    "    j=f.readlines()\n",
    "    print(j)"
   ]
  },
  {
   "cell_type": "markdown",
   "metadata": {},
   "source": [
    "### Reading Perticular line"
   ]
  },
  {
   "cell_type": "code",
   "execution_count": 38,
   "metadata": {},
   "outputs": [
    {
     "name": "stdout",
     "output_type": "stream",
     "text": [
      "kallam \n",
      "\n"
     ]
    }
   ],
   "source": [
    "filePath=\"./Files/sample1.txt\"\n",
    "with open(filePath,'r') as f :\n",
    "    j=list(f.readlines())\n",
    "    print(j[0])"
   ]
  },
  {
   "cell_type": "markdown",
   "metadata": {},
   "source": [
    "### Removing Duplicate Items"
   ]
  },
  {
   "cell_type": "code",
   "execution_count": 42,
   "metadata": {},
   "outputs": [
    {
     "name": "stdout",
     "output_type": "stream",
     "text": [
      "['ind', 'aus', 'pak', 'bang']\n"
     ]
    }
   ],
   "source": [
    "l=[\"ind\",\"aus\",\"pak\",\"bang\",\"ind\",\"aus\"]\n",
    "t=[]\n",
    "for i in l:\n",
    "    if i not in t:\n",
    "        t.append(i)        \n",
    "print(t)        "
   ]
  },
  {
   "cell_type": "code",
   "execution_count": 22,
   "metadata": {},
   "outputs": [
    {
     "name": "stdout",
     "output_type": "stream",
     "text": [
      "1 10 2\n",
      "2\n",
      "4\n",
      "6\n",
      "8\n",
      "10\n"
     ]
    }
   ],
   "source": [
    "l=input()\n",
    "l=l.split()\n",
    "p=int(l[0])\n",
    "r=int(l[1])\n",
    "k=int(l[2])\n",
    "for i in range(p,r+1):\n",
    "    if i%k==0:\n",
    "        print(i)\n"
   ]
  },
  {
   "cell_type": "code",
   "execution_count": 3,
   "metadata": {},
   "outputs": [
    {
     "name": "stdout",
     "output_type": "stream",
     "text": [
      "1 10 3\n",
      "3\n",
      "6\n",
      "9\n",
      " count is  3\n"
     ]
    }
   ],
   "source": [
    "l=input()\n",
    "l=l.split()\n",
    "p=int(l[0])\n",
    "r=int(l[1])\n",
    "k=int(l[2])\n",
    "c=0\n",
    "for i in range(p,r+1):\n",
    "    if i%k==0:\n",
    "        c=c+1\n",
    "        print(i)\n",
    "print(\" count is \",c)"
   ]
  },
  {
   "cell_type": "markdown",
   "metadata": {},
   "source": []
  }
 ],
 "metadata": {
  "kernelspec": {
   "display_name": "Python 3",
   "language": "python",
   "name": "python3"
  },
  "language_info": {
   "codemirror_mode": {
    "name": "ipython",
    "version": 3
   },
   "file_extension": ".py",
   "mimetype": "text/x-python",
   "name": "python",
   "nbconvert_exporter": "python",
   "pygments_lexer": "ipython3",
   "version": "3.7.3"
  }
 },
 "nbformat": 4,
 "nbformat_minor": 2
}
