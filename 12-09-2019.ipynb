{
 "cells": [
  {
   "cell_type": "markdown",
   "metadata": {},
   "source": [
    "### Divisible by 6 and not factors of 100 by using FUNCTION"
   ]
  },
  {
   "cell_type": "code",
   "execution_count": 22,
   "metadata": {},
   "outputs": [
    {
     "name": "stdout",
     "output_type": "stream",
     "text": [
      "lower bond  7\n",
      "upper bond  19\n",
      "7  is not a factor\n",
      "8  is not a factor\n",
      "9  is not a factor\n",
      "10  is not a factor\n",
      "11  is not a factor\n",
      "12  is a factor\n",
      "13  is not a factor\n",
      "14  is not a factor\n",
      "15  is not a factor\n",
      "16  is not a factor\n",
      "17  is not a factor\n",
      "18  is a factor\n"
     ]
    }
   ],
   "source": [
    "lb=int(input(\"lower bond\"))\n",
    "ub=int(input(\"upper bond\"))\n",
    "def khit(a):\n",
    "    if ( a%6==0 and a%100!=0 ):\n",
    "          print(a,\" is a factor\")\n",
    "    else:\n",
    "        print(a,\" is not a factor\")\n",
    "for a in range(lb,ub):\n",
    "    khit(a)"
   ]
  },
  {
   "cell_type": "markdown",
   "metadata": {},
   "source": [
    "### AVG of CUBES of EVEN NUMBERS"
   ]
  },
  {
   "cell_type": "code",
   "execution_count": 13,
   "metadata": {},
   "outputs": [
    {
     "name": "stdout",
     "output_type": "stream",
     "text": [
      "lower bond1\n",
      "upper bond10\n",
      "360.0\n"
     ]
    }
   ],
   "source": [
    "lb=int(input(\"lower bond\"))\n",
    "ub=int(input(\"upper bond\"))\n",
    "j=0\n",
    "k=0\n",
    "for a in range(lb,ub+1):\n",
    "    if a%2==0:\n",
    "        b=a*a*a\n",
    "        n=b+j\n",
    "        j=n\n",
    "        k=k+1\n",
    "f=n/k\n",
    "print(f)"
   ]
  },
  {
   "cell_type": "markdown",
   "metadata": {},
   "source": [
    "### Finding Factors:"
   ]
  },
  {
   "cell_type": "code",
   "execution_count": 41,
   "metadata": {},
   "outputs": [
    {
     "name": "stdout",
     "output_type": "stream",
     "text": [
      "4\n",
      "1\n",
      "2\n"
     ]
    }
   ],
   "source": [
    "a=int(input())\n",
    "for i in range(1,a):\n",
    "    if a%i==0:\n",
    "        print(i)\n",
    "    "
   ]
  },
  {
   "cell_type": "code",
   "execution_count": 21,
   "metadata": {},
   "outputs": [
    {
     "data": {
      "text/plain": [
       "['__class__',\n",
       " '__contains__',\n",
       " '__delattr__',\n",
       " '__delitem__',\n",
       " '__dir__',\n",
       " '__doc__',\n",
       " '__eq__',\n",
       " '__format__',\n",
       " '__ge__',\n",
       " '__getattribute__',\n",
       " '__getitem__',\n",
       " '__gt__',\n",
       " '__hash__',\n",
       " '__init__',\n",
       " '__init_subclass__',\n",
       " '__iter__',\n",
       " '__le__',\n",
       " '__len__',\n",
       " '__lt__',\n",
       " '__ne__',\n",
       " '__new__',\n",
       " '__reduce__',\n",
       " '__reduce_ex__',\n",
       " '__repr__',\n",
       " '__setattr__',\n",
       " '__setitem__',\n",
       " '__sizeof__',\n",
       " '__str__',\n",
       " '__subclasshook__',\n",
       " 'clear',\n",
       " 'copy',\n",
       " 'fromkeys',\n",
       " 'get',\n",
       " 'items',\n",
       " 'keys',\n",
       " 'pop',\n",
       " 'popitem',\n",
       " 'setdefault',\n",
       " 'update',\n",
       " 'values']"
      ]
     },
     "execution_count": 21,
     "metadata": {},
     "output_type": "execute_result"
    }
   ],
   "source": [
    "dir(dict)"
   ]
  }
 ],
 "metadata": {
  "kernelspec": {
   "display_name": "Python 3",
   "language": "python",
   "name": "python3"
  },
  "language_info": {
   "codemirror_mode": {
    "name": "ipython",
    "version": 3
   },
   "file_extension": ".py",
   "mimetype": "text/x-python",
   "name": "python",
   "nbconvert_exporter": "python",
   "pygments_lexer": "ipython3",
   "version": "3.7.3"
  }
 },
 "nbformat": 4,
 "nbformat_minor": 2
}
