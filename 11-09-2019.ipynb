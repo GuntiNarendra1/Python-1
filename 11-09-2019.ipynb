{
 "cells": [
  {
   "cell_type": "markdown",
   "metadata": {},
   "source": [
    "### repeated str"
   ]
  },
  {
   "cell_type": "code",
   "execution_count": 2,
   "metadata": {},
   "outputs": [
    {
     "name": "stdout",
     "output_type": "stream",
     "text": [
      "enter inputis is the the one one\n",
      "is -> 2\n",
      "the -> 2\n",
      "one -> 2\n"
     ]
    }
   ],
   "source": [
    "b=input(\"enter input\")\n",
    "j=b.split()\n",
    "k={}\n",
    "for i in j:\n",
    "    k[i]=j.count(i)\n",
    "d=max(k.values())\n",
    "for g in k:\n",
    "    if d==k[g]:\n",
    "           print(g, \"->\",d)"
   ]
  },
  {
   "cell_type": "markdown",
   "metadata": {},
   "source": [
    "### str rev"
   ]
  },
  {
   "cell_type": "code",
   "execution_count": 13,
   "metadata": {},
   "outputs": [
    {
     "name": "stdout",
     "output_type": "stream",
     "text": [
      "enter input201\n"
     ]
    },
    {
     "data": {
      "text/plain": [
       "102"
      ]
     },
     "execution_count": 13,
     "metadata": {},
     "output_type": "execute_result"
    }
   ],
   "source": [
    "n=input(\"enter input\")\n",
    "r=n[::-1]\n",
    "int(r)\n",
    "r=int(r)\n",
    "r\n"
   ]
  },
  {
   "cell_type": "markdown",
   "metadata": {},
   "source": [
    "### special number or not"
   ]
  },
  {
   "cell_type": "code",
   "execution_count": 14,
   "metadata": {},
   "outputs": [
    {
     "name": "stdout",
     "output_type": "stream",
     "text": [
      "Enter input99\n",
      "99  is a special number\n"
     ]
    }
   ],
   "source": [
    "a=int(input(\"Enter input\"))\n",
    "if(a>100):\n",
    "    print(\"invalid\")\n",
    "else:\n",
    "    \n",
    "    k=a//10\n",
    "    l=a%10\n",
    "    sum=k+l\n",
    "    product=k*l\n",
    "    result=sum+product\n",
    "if ( result==a ):\n",
    "    print(a,\" is a special number\")\n",
    "else:\n",
    "    print(a,\" is not a special number\")"
   ]
  },
  {
   "cell_type": "markdown",
   "metadata": {},
   "source": [
    "### Perfect number"
   ]
  },
  {
   "cell_type": "code",
   "execution_count": 21,
   "metadata": {},
   "outputs": [
    {
     "name": "stdout",
     "output_type": "stream",
     "text": [
      "lower bond1\n",
      "upper bond100\n",
      "6\n",
      "28\n"
     ]
    }
   ],
   "source": [
    "lb=int(input(\"lower bond\"))\n",
    "ub=int(input(\"upper bond\"))\n",
    "s=0\n",
    "def findFactor(n,s):\n",
    "    for i in range(1,n):\n",
    "        if n%i==0:\n",
    "            s=s+i\n",
    "    if s==n:\n",
    "        print(n)\n",
    "for k in range(lb,ub+1):\n",
    "    findFactor(k,s)\n",
    "    "
   ]
  },
  {
   "cell_type": "markdown",
   "metadata": {},
   "source": [
    "### Prime Number in a given Range"
   ]
  },
  {
   "cell_type": "code",
   "execution_count": 20,
   "metadata": {},
   "outputs": [
    {
     "name": "stdout",
     "output_type": "stream",
     "text": [
      "lower bond1\n",
      "upper bond10\n",
      "2\n",
      "3\n",
      "5\n",
      "7\n"
     ]
    }
   ],
   "source": [
    "lb=int(input(\"lower bond\"))\n",
    "ub=int(input(\"upper bond\"))\n",
    "s=0\n",
    "def findFactor(n,s):\n",
    "    for i in range(1,n):\n",
    "        if n%i==0:\n",
    "            s=s+i\n",
    "    if s==1:\n",
    "        print(n)\n",
    "for k in range(lb,ub+1):\n",
    "    findFactor(k,s)\n",
    "    "
   ]
  },
  {
   "cell_type": "code",
   "execution_count": null,
   "metadata": {},
   "outputs": [],
   "source": []
  }
 ],
 "metadata": {
  "kernelspec": {
   "display_name": "Python 3",
   "language": "python",
   "name": "python3"
  },
  "language_info": {
   "codemirror_mode": {
    "name": "ipython",
    "version": 3
   },
   "file_extension": ".py",
   "mimetype": "text/x-python",
   "name": "python",
   "nbconvert_exporter": "python",
   "pygments_lexer": "ipython3",
   "version": "3.7.3"
  }
 },
 "nbformat": 4,
 "nbformat_minor": 2
}
