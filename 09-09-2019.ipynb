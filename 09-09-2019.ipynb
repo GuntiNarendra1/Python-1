{
 "cells": [
  {
   "cell_type": "markdown",
   "metadata": {},
   "source": [
    "### sorting"
   ]
  },
  {
   "cell_type": "code",
   "execution_count": 6,
   "metadata": {},
   "outputs": [
    {
     "name": "stdout",
     "output_type": "stream",
     "text": [
      "[3, 56, 123, 675, 789, 4444, 6666]\n"
     ]
    },
    {
     "data": {
      "text/plain": [
       "[6666, 4444, 789, 675, 123, 56, 3]"
      ]
     },
     "execution_count": 6,
     "metadata": {},
     "output_type": "execute_result"
    }
   ],
   "source": [
    "m=[123,3,56,789,675,4444,6666]\n",
    "m.sort()\n",
    "print(m)\n",
    "m.reverse()\n",
    "m"
   ]
  },
  {
   "cell_type": "markdown",
   "metadata": {},
   "source": [
    "###  user input"
   ]
  },
  {
   "cell_type": "code",
   "execution_count": 11,
   "metadata": {
    "scrolled": true
   },
   "outputs": [
    {
     "name": "stdout",
     "output_type": "stream",
     "text": [
      " how many elements you need...?3\n",
      "enter elements33\n",
      "enter elements44\n",
      "enter elements55\n",
      "[33, 44, 55]\n",
      "[55, 44, 33]\n"
     ]
    }
   ],
   "source": [
    "a=int(input(\" how many elements you need...?\"))\n",
    "m=[]\n",
    "for i in range(a):\n",
    "    b=int(input(\"enter elements\"))\n",
    "    m.append(b)\n",
    "print(m)\n",
    "m.sort()\n",
    "m.reverse()\n",
    "print(m)"
   ]
  },
  {
   "cell_type": "markdown",
   "metadata": {},
   "source": [
    "### freq. of a number"
   ]
  },
  {
   "cell_type": "code",
   "execution_count": 4,
   "metadata": {},
   "outputs": [
    {
     "name": "stdout",
     "output_type": "stream",
     "text": [
      "6\n"
     ]
    }
   ],
   "source": [
    "def max_frequency(list):\n",
    "    return max(set(list),key=list.count)\n",
    "list=[1,55,7,9,8,9,8,6,67,8,9,0,6,6]\n",
    "print(max_frequency(list))"
   ]
  },
  {
   "cell_type": "code",
   "execution_count": 8,
   "metadata": {},
   "outputs": [
    {
     "name": "stdout",
     "output_type": "stream",
     "text": [
      "4\n"
     ]
    }
   ],
   "source": [
    "l=[3,5,6,4,4,4,4]\n",
    "d={}\n",
    "for i in l:\n",
    "    d[i]=l.count(i)\n",
    "m=max(d.values())\n",
    "for k in d:\n",
    "    if m==d[k]:\n",
    "         print(k)\n"
   ]
  },
  {
   "cell_type": "markdown",
   "metadata": {},
   "source": [
    "### TABLE"
   ]
  },
  {
   "cell_type": "code",
   "execution_count": 6,
   "metadata": {},
   "outputs": [
    {
     "name": "stdout",
     "output_type": "stream",
     "text": [
      " enter req.table 10\n",
      " enter value  11\n",
      "10 * 0 = 0\n",
      "10 * 1 = 10\n",
      "10 * 2 = 20\n",
      "10 * 3 = 30\n",
      "10 * 4 = 40\n",
      "10 * 5 = 50\n",
      "10 * 6 = 60\n",
      "10 * 7 = 70\n",
      "10 * 8 = 80\n",
      "10 * 9 = 90\n",
      "10 * 10 = 100\n"
     ]
    }
   ],
   "source": [
    "a=int(input(\" enter req.table \"))\n",
    "b=int(input(\" enter value  \"))\n",
    "for m in range(b):\n",
    "    n=a*m\n",
    "    print(a,\"*\",m,\"=\",n)"
   ]
  },
  {
   "cell_type": "markdown",
   "metadata": {},
   "source": [
    "### repeated string"
   ]
  },
  {
   "cell_type": "code",
   "execution_count": 12,
   "metadata": {},
   "outputs": [
    {
     "name": "stdout",
     "output_type": "stream",
     "text": [
      "enter inputis is thr thr ok ok \n",
      "is -> 2\n",
      "thr -> 2\n",
      "ok -> 2\n"
     ]
    }
   ],
   "source": [
    "b=input(\"enter input\")\n",
    "j=b.split()\n",
    "k={}\n",
    "for i in j:\n",
    "    k[i]=j.count(i)\n",
    "d=max(k.values())\n",
    "for g in k:\n",
    "    if d==k[g]:\n",
    "           print(g, \"->\",d)\n"
   ]
  }
 ],
 "metadata": {
  "kernelspec": {
   "display_name": "Python 3",
   "language": "python",
   "name": "python3"
  },
  "language_info": {
   "codemirror_mode": {
    "name": "ipython",
    "version": 3
   },
   "file_extension": ".py",
   "mimetype": "text/x-python",
   "name": "python",
   "nbconvert_exporter": "python",
   "pygments_lexer": "ipython3",
   "version": "3.7.3"
  }
 },
 "nbformat": 4,
 "nbformat_minor": 2
}
