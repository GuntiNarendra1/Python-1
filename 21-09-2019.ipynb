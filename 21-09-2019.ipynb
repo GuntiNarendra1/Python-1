{
 "cells": [
  {
   "cell_type": "code",
   "execution_count": 21,
   "metadata": {},
   "outputs": [
    {
     "name": "stdout",
     "output_type": "stream",
     "text": [
      "kallam \n",
      "\n"
     ]
    }
   ],
   "source": [
    "filePath=\"./Files/sample1.txt\"\n",
    "with open(filePath,'r') as f :\n",
    "#     k=f.read()\n",
    "#     print(k)\n",
    "    j=f.readline()\n",
    "    print(j)"
   ]
  },
  {
   "cell_type": "code",
   "execution_count": 25,
   "metadata": {},
   "outputs": [
    {
     "name": "stdout",
     "output_type": "stream",
     "text": [
      "kallam \n",
      "\n"
     ]
    }
   ],
   "source": [
    "filePath=\"./Files/sample1.txt\"\n",
    "f=open(filePath,'r')\n",
    "# j=f.read()\n",
    "# print(j)\n",
    "line=f.readline()\n",
    "print(line)"
   ]
  },
  {
   "cell_type": "code",
   "execution_count": 65,
   "metadata": {},
   "outputs": [
    {
     "name": "stdout",
     "output_type": "stream",
     "text": [
      "1\n",
      "sh and sm1 30\n",
      "eh and em2 25\n",
      "1 5\n"
     ]
    }
   ],
   "source": [
    "e=int(input())\n",
    "for i in range(e):\n",
    "    j=input(\"sh and sm\")\n",
    "    l=input(\"eh and em\")\n",
    "    a=j.split()\n",
    "    p=int(a[0])\n",
    "    q=int(a[1])\n",
    "    b=l.split()\n",
    "    r=int(b[0])\n",
    "    s=int(b[1])\n",
    "    k=abs(r-p)\n",
    "    j=abs(s-q)\n",
    "    print(k,j)\n"
   ]
  },
  {
   "cell_type": "markdown",
   "metadata": {},
   "source": [
    "### "
   ]
  },
  {
   "cell_type": "markdown",
   "metadata": {},
   "source": [
    "### creating 2 files in single pgrm ( with open )"
   ]
  },
  {
   "cell_type": "code",
   "execution_count": 75,
   "metadata": {},
   "outputs": [],
   "source": [
    "filePath=\"./Files/sample2.txt\"\n",
    "with open(filePath,'w') as f :\n",
    "    f.write(\"guntur\")\n",
    "filePath=\"./Files/sample3.txt\"\n",
    "with open(filePath,'w') as f :\n",
    "    f.write(\"hub\")\n",
    "    \n"
   ]
  },
  {
   "cell_type": "markdown",
   "metadata": {},
   "source": [
    "### creating 2 files in single pgrm ( open )"
   ]
  },
  {
   "cell_type": "code",
   "execution_count": 79,
   "metadata": {},
   "outputs": [],
   "source": [
    "filePath=\"./Files/sample4.txt\"\n",
    "f=open(filePath,'w')\n",
    "f.write(\" rtyui \")\n",
    "f.close()\n",
    "filePath=\"./Files/sample5.txt\"\n",
    "f=open(filePath,'w')\n",
    "f.write(\" xcvbn \")\n",
    "f.close()"
   ]
  },
  {
   "cell_type": "code",
   "execution_count": null,
   "metadata": {},
   "outputs": [],
   "source": []
  }
 ],
 "metadata": {
  "kernelspec": {
   "display_name": "Python 3",
   "language": "python",
   "name": "python3"
  },
  "language_info": {
   "codemirror_mode": {
    "name": "ipython",
    "version": 3
   },
   "file_extension": ".py",
   "mimetype": "text/x-python",
   "name": "python",
   "nbconvert_exporter": "python",
   "pygments_lexer": "ipython3",
   "version": "3.7.3"
  }
 },
 "nbformat": 4,
 "nbformat_minor": 2
}
